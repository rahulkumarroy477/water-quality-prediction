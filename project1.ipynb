{
 "cells": [
  {
   "cell_type": "code",
   "execution_count": 29,
   "metadata": {},
   "outputs": [],
   "source": [
    "import pandas as pd\n",
    "import numpy as np\n",
    "from scipy.stats import boxcox\n",
    "import matplotlib.pyplot as plt\n",
    "import seaborn as sns\n",
    "from sklearn.preprocessing import MinMaxScaler"
   ]
  },
  {
   "cell_type": "code",
   "execution_count": 30,
   "metadata": {},
   "outputs": [],
   "source": [
    "# data = pd.read_csv(r'C:\\Users\\91707\\Desktop\\water_quality_prediction\\dataset.csv')\n",
    "data = pd.read_csv(r'C:\\Users\\91707\\Desktop\\water_quality_prediction\\sampled_data.csv')"
   ]
  },
  {
   "cell_type": "code",
   "execution_count": 31,
   "metadata": {},
   "outputs": [],
   "source": [
    "\n",
    "#         # reducing the sample size \n",
    "\n",
    "# sample_size = 10000\n",
    "\n",
    "#         # Randomly sample a subset of the data\n",
    "# sampled_df = data.sample(n=sample_size, random_state=42)\n",
    "\n",
    "#         # Save the sampled data to a new CSV file\n",
    "# sampled_df.to_csv('sampled_data.csv', index=False)"
   ]
  },
  {
   "cell_type": "code",
   "execution_count": 32,
   "metadata": {},
   "outputs": [
    {
     "data": {
      "text/plain": [
       "(10000, 24)"
      ]
     },
     "execution_count": 32,
     "metadata": {},
     "output_type": "execute_result"
    }
   ],
   "source": [
    "# data\n",
    "data.shape"
   ]
  },
  {
   "attachments": {},
   "cell_type": "markdown",
   "metadata": {},
   "source": [
    "Data cleaning"
   ]
  },
  {
   "attachments": {},
   "cell_type": "markdown",
   "metadata": {},
   "source": [
    "Dimensionality Reduction"
   ]
  },
  {
   "cell_type": "code",
   "execution_count": 33,
   "metadata": {},
   "outputs": [],
   "source": [
    "\n",
    "# data.info()\n",
    "# print(data.columns)\n",
    "data = data.drop(columns=['Index','Color','Water Temperature','Air Temperature','Source','Month','Day','Time of Day'])\n",
    "\n"
   ]
  },
  {
   "cell_type": "code",
   "execution_count": 34,
   "metadata": {},
   "outputs": [
    {
     "data": {
      "text/html": [
       "<div>\n",
       "<style scoped>\n",
       "    .dataframe tbody tr th:only-of-type {\n",
       "        vertical-align: middle;\n",
       "    }\n",
       "\n",
       "    .dataframe tbody tr th {\n",
       "        vertical-align: top;\n",
       "    }\n",
       "\n",
       "    .dataframe thead th {\n",
       "        text-align: right;\n",
       "    }\n",
       "</style>\n",
       "<table border=\"1\" class=\"dataframe\">\n",
       "  <thead>\n",
       "    <tr style=\"text-align: right;\">\n",
       "      <th></th>\n",
       "      <th>pH</th>\n",
       "      <th>Iron</th>\n",
       "      <th>Nitrate</th>\n",
       "      <th>Chloride</th>\n",
       "      <th>Lead</th>\n",
       "      <th>Zinc</th>\n",
       "      <th>Turbidity</th>\n",
       "      <th>Fluoride</th>\n",
       "      <th>Copper</th>\n",
       "      <th>Odor</th>\n",
       "      <th>Sulfate</th>\n",
       "      <th>Conductivity</th>\n",
       "      <th>Chlorine</th>\n",
       "      <th>Manganese</th>\n",
       "      <th>Total Dissolved Solids</th>\n",
       "      <th>Target</th>\n",
       "    </tr>\n",
       "  </thead>\n",
       "  <tbody>\n",
       "    <tr>\n",
       "      <th>0</th>\n",
       "      <td>6.865081</td>\n",
       "      <td>0.002090</td>\n",
       "      <td>6.665196</td>\n",
       "      <td>154.304661</td>\n",
       "      <td>2.532523e-08</td>\n",
       "      <td>2.100854</td>\n",
       "      <td>0.006723</td>\n",
       "      <td>1.901142</td>\n",
       "      <td>1.263176</td>\n",
       "      <td>1.040840</td>\n",
       "      <td>166.285918</td>\n",
       "      <td>190.085908</td>\n",
       "      <td>2.726099</td>\n",
       "      <td>8.760657e-07</td>\n",
       "      <td>84.907959</td>\n",
       "      <td>1</td>\n",
       "    </tr>\n",
       "    <tr>\n",
       "      <th>1</th>\n",
       "      <td>8.218379</td>\n",
       "      <td>0.018253</td>\n",
       "      <td>7.960071</td>\n",
       "      <td>146.568255</td>\n",
       "      <td>9.387020e-08</td>\n",
       "      <td>1.566728</td>\n",
       "      <td>0.103921</td>\n",
       "      <td>1.373210</td>\n",
       "      <td>0.189954</td>\n",
       "      <td>0.721160</td>\n",
       "      <td>74.803539</td>\n",
       "      <td>249.638471</td>\n",
       "      <td>3.912876</td>\n",
       "      <td>3.314244e-02</td>\n",
       "      <td>403.844600</td>\n",
       "      <td>0</td>\n",
       "    </tr>\n",
       "    <tr>\n",
       "      <th>2</th>\n",
       "      <td>8.222025</td>\n",
       "      <td>0.020773</td>\n",
       "      <td>7.661815</td>\n",
       "      <td>233.560403</td>\n",
       "      <td>1.685993e-45</td>\n",
       "      <td>0.347338</td>\n",
       "      <td>0.000054</td>\n",
       "      <td>1.536736</td>\n",
       "      <td>0.478412</td>\n",
       "      <td>0.964127</td>\n",
       "      <td>148.245938</td>\n",
       "      <td>427.615607</td>\n",
       "      <td>2.647662</td>\n",
       "      <td>2.931158e-07</td>\n",
       "      <td>252.332438</td>\n",
       "      <td>0</td>\n",
       "    </tr>\n",
       "    <tr>\n",
       "      <th>3</th>\n",
       "      <td>7.614713</td>\n",
       "      <td>0.000039</td>\n",
       "      <td>4.735283</td>\n",
       "      <td>199.783328</td>\n",
       "      <td>1.200594e-56</td>\n",
       "      <td>0.379548</td>\n",
       "      <td>0.445300</td>\n",
       "      <td>0.816121</td>\n",
       "      <td>0.321648</td>\n",
       "      <td>1.033522</td>\n",
       "      <td>146.904418</td>\n",
       "      <td>262.959440</td>\n",
       "      <td>2.667591</td>\n",
       "      <td>1.685162e-03</td>\n",
       "      <td>209.074768</td>\n",
       "      <td>0</td>\n",
       "    </tr>\n",
       "    <tr>\n",
       "      <th>4</th>\n",
       "      <td>8.469935</td>\n",
       "      <td>0.000005</td>\n",
       "      <td>3.459419</td>\n",
       "      <td>178.919805</td>\n",
       "      <td>1.382519e-89</td>\n",
       "      <td>0.255855</td>\n",
       "      <td>1.016629</td>\n",
       "      <td>0.514603</td>\n",
       "      <td>0.226024</td>\n",
       "      <td>0.827003</td>\n",
       "      <td>107.101669</td>\n",
       "      <td>120.771386</td>\n",
       "      <td>2.091191</td>\n",
       "      <td>1.060475e-14</td>\n",
       "      <td>493.565135</td>\n",
       "      <td>0</td>\n",
       "    </tr>\n",
       "    <tr>\n",
       "      <th>...</th>\n",
       "      <td>...</td>\n",
       "      <td>...</td>\n",
       "      <td>...</td>\n",
       "      <td>...</td>\n",
       "      <td>...</td>\n",
       "      <td>...</td>\n",
       "      <td>...</td>\n",
       "      <td>...</td>\n",
       "      <td>...</td>\n",
       "      <td>...</td>\n",
       "      <td>...</td>\n",
       "      <td>...</td>\n",
       "      <td>...</td>\n",
       "      <td>...</td>\n",
       "      <td>...</td>\n",
       "      <td>...</td>\n",
       "    </tr>\n",
       "    <tr>\n",
       "      <th>9995</th>\n",
       "      <td>6.980011</td>\n",
       "      <td>0.032949</td>\n",
       "      <td>11.002056</td>\n",
       "      <td>126.971208</td>\n",
       "      <td>2.828189e-51</td>\n",
       "      <td>0.048896</td>\n",
       "      <td>4.187026</td>\n",
       "      <td>0.942013</td>\n",
       "      <td>1.930687</td>\n",
       "      <td>4.123265</td>\n",
       "      <td>174.166342</td>\n",
       "      <td>284.426342</td>\n",
       "      <td>2.358868</td>\n",
       "      <td>1.847975e-05</td>\n",
       "      <td>121.845368</td>\n",
       "      <td>1</td>\n",
       "    </tr>\n",
       "    <tr>\n",
       "      <th>9996</th>\n",
       "      <td>8.485674</td>\n",
       "      <td>0.234151</td>\n",
       "      <td>4.996311</td>\n",
       "      <td>151.212345</td>\n",
       "      <td>1.748252e-198</td>\n",
       "      <td>3.947420</td>\n",
       "      <td>0.103342</td>\n",
       "      <td>0.980125</td>\n",
       "      <td>0.752417</td>\n",
       "      <td>1.389119</td>\n",
       "      <td>83.254819</td>\n",
       "      <td>100.489391</td>\n",
       "      <td>3.871977</td>\n",
       "      <td>9.535308e-03</td>\n",
       "      <td>22.841322</td>\n",
       "      <td>0</td>\n",
       "    </tr>\n",
       "    <tr>\n",
       "      <th>9997</th>\n",
       "      <td>7.919120</td>\n",
       "      <td>0.091026</td>\n",
       "      <td>5.998148</td>\n",
       "      <td>186.576932</td>\n",
       "      <td>1.534790e-40</td>\n",
       "      <td>0.574512</td>\n",
       "      <td>0.021974</td>\n",
       "      <td>0.966095</td>\n",
       "      <td>0.053412</td>\n",
       "      <td>1.210594</td>\n",
       "      <td>141.257223</td>\n",
       "      <td>295.291734</td>\n",
       "      <td>2.995800</td>\n",
       "      <td>5.764343e-04</td>\n",
       "      <td>133.319921</td>\n",
       "      <td>0</td>\n",
       "    </tr>\n",
       "    <tr>\n",
       "      <th>9998</th>\n",
       "      <td>8.358430</td>\n",
       "      <td>0.265897</td>\n",
       "      <td>9.742094</td>\n",
       "      <td>243.560265</td>\n",
       "      <td>1.241578e-02</td>\n",
       "      <td>3.240438</td>\n",
       "      <td>0.351515</td>\n",
       "      <td>1.423338</td>\n",
       "      <td>0.385249</td>\n",
       "      <td>2.032930</td>\n",
       "      <td>54.716859</td>\n",
       "      <td>193.021023</td>\n",
       "      <td>2.902601</td>\n",
       "      <td>2.225997e-10</td>\n",
       "      <td>529.378100</td>\n",
       "      <td>0</td>\n",
       "    </tr>\n",
       "    <tr>\n",
       "      <th>9999</th>\n",
       "      <td>7.424426</td>\n",
       "      <td>0.140134</td>\n",
       "      <td>4.656264</td>\n",
       "      <td>171.582195</td>\n",
       "      <td>4.341000e-33</td>\n",
       "      <td>1.522090</td>\n",
       "      <td>0.008222</td>\n",
       "      <td>0.995610</td>\n",
       "      <td>0.338790</td>\n",
       "      <td>3.164763</td>\n",
       "      <td>95.807116</td>\n",
       "      <td>410.224957</td>\n",
       "      <td>3.439996</td>\n",
       "      <td>1.181079e-01</td>\n",
       "      <td>122.615760</td>\n",
       "      <td>0</td>\n",
       "    </tr>\n",
       "  </tbody>\n",
       "</table>\n",
       "<p>10000 rows × 16 columns</p>\n",
       "</div>"
      ],
      "text/plain": [
       "            pH      Iron    Nitrate    Chloride           Lead      Zinc  \\\n",
       "0     6.865081  0.002090   6.665196  154.304661   2.532523e-08  2.100854   \n",
       "1     8.218379  0.018253   7.960071  146.568255   9.387020e-08  1.566728   \n",
       "2     8.222025  0.020773   7.661815  233.560403   1.685993e-45  0.347338   \n",
       "3     7.614713  0.000039   4.735283  199.783328   1.200594e-56  0.379548   \n",
       "4     8.469935  0.000005   3.459419  178.919805   1.382519e-89  0.255855   \n",
       "...        ...       ...        ...         ...            ...       ...   \n",
       "9995  6.980011  0.032949  11.002056  126.971208   2.828189e-51  0.048896   \n",
       "9996  8.485674  0.234151   4.996311  151.212345  1.748252e-198  3.947420   \n",
       "9997  7.919120  0.091026   5.998148  186.576932   1.534790e-40  0.574512   \n",
       "9998  8.358430  0.265897   9.742094  243.560265   1.241578e-02  3.240438   \n",
       "9999  7.424426  0.140134   4.656264  171.582195   4.341000e-33  1.522090   \n",
       "\n",
       "      Turbidity  Fluoride    Copper      Odor     Sulfate  Conductivity  \\\n",
       "0      0.006723  1.901142  1.263176  1.040840  166.285918    190.085908   \n",
       "1      0.103921  1.373210  0.189954  0.721160   74.803539    249.638471   \n",
       "2      0.000054  1.536736  0.478412  0.964127  148.245938    427.615607   \n",
       "3      0.445300  0.816121  0.321648  1.033522  146.904418    262.959440   \n",
       "4      1.016629  0.514603  0.226024  0.827003  107.101669    120.771386   \n",
       "...         ...       ...       ...       ...         ...           ...   \n",
       "9995   4.187026  0.942013  1.930687  4.123265  174.166342    284.426342   \n",
       "9996   0.103342  0.980125  0.752417  1.389119   83.254819    100.489391   \n",
       "9997   0.021974  0.966095  0.053412  1.210594  141.257223    295.291734   \n",
       "9998   0.351515  1.423338  0.385249  2.032930   54.716859    193.021023   \n",
       "9999   0.008222  0.995610  0.338790  3.164763   95.807116    410.224957   \n",
       "\n",
       "      Chlorine     Manganese  Total Dissolved Solids  Target  \n",
       "0     2.726099  8.760657e-07               84.907959       1  \n",
       "1     3.912876  3.314244e-02              403.844600       0  \n",
       "2     2.647662  2.931158e-07              252.332438       0  \n",
       "3     2.667591  1.685162e-03              209.074768       0  \n",
       "4     2.091191  1.060475e-14              493.565135       0  \n",
       "...        ...           ...                     ...     ...  \n",
       "9995  2.358868  1.847975e-05              121.845368       1  \n",
       "9996  3.871977  9.535308e-03               22.841322       0  \n",
       "9997  2.995800  5.764343e-04              133.319921       0  \n",
       "9998  2.902601  2.225997e-10              529.378100       0  \n",
       "9999  3.439996  1.181079e-01              122.615760       0  \n",
       "\n",
       "[10000 rows x 16 columns]"
      ]
     },
     "execution_count": 34,
     "metadata": {},
     "output_type": "execute_result"
    }
   ],
   "source": [
    "# fill the missing values\n",
    "\n",
    "# Replace null or NaN values with column mean\n",
    "data.fillna(data.mean(),inplace=True)\n",
    "\n",
    "# data.isnull().sum()\n",
    "\n",
    "data\n",
    "\n"
   ]
  },
  {
   "attachments": {},
   "cell_type": "markdown",
   "metadata": {},
   "source": [
    "checking if we need to do dimensionality reduction"
   ]
  },
  {
   "cell_type": "code",
   "execution_count": 35,
   "metadata": {},
   "outputs": [],
   "source": [
    "# sns.heatmap(data.corr(),annot=True,cmap='terrain')\n",
    "# fig = plt.gcf()\n",
    "# fig.set_size_inches(25,10)\n",
    "# plt.show()"
   ]
  },
  {
   "attachments": {},
   "cell_type": "markdown",
   "metadata": {},
   "source": [
    "Box outliner"
   ]
  },
  {
   "cell_type": "code",
   "execution_count": 36,
   "metadata": {},
   "outputs": [],
   "source": [
    "# data.boxplot(figsize=(25,10))\n",
    "# plt.show()"
   ]
  },
  {
   "cell_type": "code",
   "execution_count": 37,
   "metadata": {},
   "outputs": [
    {
     "data": {
      "text/plain": [
       "Target\n",
       "0    6923\n",
       "1    3077\n",
       "Name: count, dtype: int64"
      ]
     },
     "execution_count": 37,
     "metadata": {},
     "output_type": "execute_result"
    }
   ],
   "source": [
    "# checking data is biased or not\n",
    "\n",
    "# data\n",
    "data['Target'].value_counts()"
   ]
  },
  {
   "cell_type": "code",
   "execution_count": 38,
   "metadata": {},
   "outputs": [
    {
     "data": {
      "image/png": "[encoded data removed]",
      "text/plain": [
       "<Figure size 640x480 with 1 Axes>"
      ]
     },
     "metadata": {},
     "output_type": "display_data"
    }
   ],
   "source": [
    "sns.countplot(data=data, x='Target')\n",
    "\n",
    "# Set plot title and labels\n",
    "plt.title('Count of Target')\n",
    "plt.xlabel('Target Values')\n",
    "plt.ylabel('Count')\n",
    "\n",
    "# Display the plot\n",
    "plt.show()"
   ]
  },
  {
   "cell_type": "code",
   "execution_count": 39,
   "metadata": {},
   "outputs": [],
   "source": [
    "# checking normality\n",
    "\n",
    "# data.hist(figsize=(10,10))\n",
    "# plt.show()"
   ]
  },
  {
   "cell_type": "code",
   "execution_count": 40,
   "metadata": {},
   "outputs": [],
   "source": [
    "# sns.barplot(x=data['pH'],y = data['Chloride'],hue = data['Target'])\n",
    "# plt.show()"
   ]
  },
  {
   "attachments": {},
   "cell_type": "markdown",
   "metadata": {},
   "source": [
    "Normalisation"
   ]
  },
  {
   "attachments": {},
   "cell_type": "markdown",
   "metadata": {},
   "source": [
    "partioning"
   ]
  },
  {
   "cell_type": "code",
   "execution_count": 41,
   "metadata": {},
   "outputs": [],
   "source": [
    "X = data.drop('Target',axis=1)\n",
    "Y = data['Target']"
   ]
  },
  {
   "cell_type": "code",
   "execution_count": 42,
   "metadata": {},
   "outputs": [],
   "source": [
    "from sklearn.model_selection import train_test_split"
   ]
  },
  {
   "cell_type": "code",
   "execution_count": 43,
   "metadata": {},
   "outputs": [],
   "source": [
    "X_train, X_test, Y_train, Y_test = train_test_split(X,Y,test_size=0.2,shuffle=True,random_state=23)"
   ]
  },
  {
   "attachments": {},
   "cell_type": "markdown",
   "metadata": {},
   "source": [
    "normalization"
   ]
  },
  {
   "cell_type": "code",
   "execution_count": 44,
   "metadata": {},
   "outputs": [],
   "source": [
    "scaler = MinMaxScaler()\n",
    "\n",
    "scaler.fit(X_train)\n",
    "\n",
    "# transform train and test data\n",
    "\n",
    "X_train_scaled = scaler.transform(X_train)\n",
    "X_test_scaled = scaler.transform(X_test)"
   ]
  },
  {
   "cell_type": "code",
   "execution_count": 45,
   "metadata": {},
   "outputs": [
    {
     "data": {
      "text/html": [
       "<div>\n",
       "<style scoped>\n",
       "    .dataframe tbody tr th:only-of-type {\n",
       "        vertical-align: middle;\n",
       "    }\n",
       "\n",
       "    .dataframe tbody tr th {\n",
       "        vertical-align: top;\n",
       "    }\n",
       "\n",
       "    .dataframe thead th {\n",
       "        text-align: right;\n",
       "    }\n",
       "</style>\n",
       "<table border=\"1\" class=\"dataframe\">\n",
       "  <thead>\n",
       "    <tr style=\"text-align: right;\">\n",
       "      <th></th>\n",
       "      <th>pH</th>\n",
       "      <th>Iron</th>\n",
       "      <th>Nitrate</th>\n",
       "      <th>Chloride</th>\n",
       "      <th>Lead</th>\n",
       "      <th>Zinc</th>\n",
       "      <th>Turbidity</th>\n",
       "      <th>Fluoride</th>\n",
       "      <th>Copper</th>\n",
       "      <th>Odor</th>\n",
       "      <th>Sulfate</th>\n",
       "      <th>Conductivity</th>\n",
       "      <th>Chlorine</th>\n",
       "      <th>Manganese</th>\n",
       "      <th>Total Dissolved Solids</th>\n",
       "    </tr>\n",
       "  </thead>\n",
       "  <tbody>\n",
       "    <tr>\n",
       "      <th>count</th>\n",
       "      <td>8000.0</td>\n",
       "      <td>8000.0</td>\n",
       "      <td>8000.0</td>\n",
       "      <td>8000.0</td>\n",
       "      <td>8000.0</td>\n",
       "      <td>8000.0</td>\n",
       "      <td>8000.0</td>\n",
       "      <td>8000.0</td>\n",
       "      <td>8000.0</td>\n",
       "      <td>8000.0</td>\n",
       "      <td>8000.0</td>\n",
       "      <td>8000.0</td>\n",
       "      <td>8000.0</td>\n",
       "      <td>8000.0</td>\n",
       "      <td>8000.0</td>\n",
       "    </tr>\n",
       "    <tr>\n",
       "      <th>mean</th>\n",
       "      <td>7.5</td>\n",
       "      <td>0.1</td>\n",
       "      <td>6.2</td>\n",
       "      <td>185.2</td>\n",
       "      <td>0.0</td>\n",
       "      <td>1.6</td>\n",
       "      <td>0.5</td>\n",
       "      <td>1.0</td>\n",
       "      <td>0.5</td>\n",
       "      <td>1.8</td>\n",
       "      <td>147.2</td>\n",
       "      <td>427.6</td>\n",
       "      <td>3.3</td>\n",
       "      <td>0.1</td>\n",
       "      <td>268.7</td>\n",
       "    </tr>\n",
       "    <tr>\n",
       "      <th>std</th>\n",
       "      <td>0.9</td>\n",
       "      <td>0.5</td>\n",
       "      <td>3.2</td>\n",
       "      <td>66.1</td>\n",
       "      <td>0.0</td>\n",
       "      <td>1.5</td>\n",
       "      <td>1.0</td>\n",
       "      <td>0.8</td>\n",
       "      <td>0.6</td>\n",
       "      <td>1.1</td>\n",
       "      <td>67.0</td>\n",
       "      <td>189.0</td>\n",
       "      <td>0.7</td>\n",
       "      <td>0.5</td>\n",
       "      <td>156.2</td>\n",
       "    </tr>\n",
       "    <tr>\n",
       "      <th>min</th>\n",
       "      <td>3.0</td>\n",
       "      <td>0.0</td>\n",
       "      <td>0.8</td>\n",
       "      <td>42.9</td>\n",
       "      <td>0.0</td>\n",
       "      <td>0.0</td>\n",
       "      <td>0.0</td>\n",
       "      <td>0.0</td>\n",
       "      <td>0.0</td>\n",
       "      <td>0.0</td>\n",
       "      <td>13.4</td>\n",
       "      <td>33.2</td>\n",
       "      <td>1.4</td>\n",
       "      <td>0.0</td>\n",
       "      <td>0.1</td>\n",
       "    </tr>\n",
       "    <tr>\n",
       "      <th>25%</th>\n",
       "      <td>6.9</td>\n",
       "      <td>0.0</td>\n",
       "      <td>4.1</td>\n",
       "      <td>140.4</td>\n",
       "      <td>0.0</td>\n",
       "      <td>0.4</td>\n",
       "      <td>0.0</td>\n",
       "      <td>0.4</td>\n",
       "      <td>0.1</td>\n",
       "      <td>0.9</td>\n",
       "      <td>100.8</td>\n",
       "      <td>291.1</td>\n",
       "      <td>2.8</td>\n",
       "      <td>0.0</td>\n",
       "      <td>133.8</td>\n",
       "    </tr>\n",
       "    <tr>\n",
       "      <th>50%</th>\n",
       "      <td>7.5</td>\n",
       "      <td>0.0</td>\n",
       "      <td>5.7</td>\n",
       "      <td>178.7</td>\n",
       "      <td>0.0</td>\n",
       "      <td>1.1</td>\n",
       "      <td>0.2</td>\n",
       "      <td>0.8</td>\n",
       "      <td>0.4</td>\n",
       "      <td>1.8</td>\n",
       "      <td>137.8</td>\n",
       "      <td>406.5</td>\n",
       "      <td>3.2</td>\n",
       "      <td>0.0</td>\n",
       "      <td>270.1</td>\n",
       "    </tr>\n",
       "    <tr>\n",
       "      <th>75%</th>\n",
       "      <td>8.0</td>\n",
       "      <td>0.1</td>\n",
       "      <td>7.7</td>\n",
       "      <td>217.8</td>\n",
       "      <td>0.0</td>\n",
       "      <td>2.2</td>\n",
       "      <td>0.6</td>\n",
       "      <td>1.3</td>\n",
       "      <td>0.7</td>\n",
       "      <td>2.6</td>\n",
       "      <td>181.7</td>\n",
       "      <td>527.6</td>\n",
       "      <td>3.7</td>\n",
       "      <td>0.0</td>\n",
       "      <td>399.8</td>\n",
       "    </tr>\n",
       "    <tr>\n",
       "      <th>max</th>\n",
       "      <td>12.1</td>\n",
       "      <td>8.5</td>\n",
       "      <td>39.7</td>\n",
       "      <td>727.8</td>\n",
       "      <td>2.9</td>\n",
       "      <td>13.5</td>\n",
       "      <td>12.6</td>\n",
       "      <td>7.4</td>\n",
       "      <td>6.7</td>\n",
       "      <td>4.1</td>\n",
       "      <td>708.7</td>\n",
       "      <td>1459.6</td>\n",
       "      <td>8.8</td>\n",
       "      <td>13.8</td>\n",
       "      <td>579.8</td>\n",
       "    </tr>\n",
       "  </tbody>\n",
       "</table>\n",
       "</div>"
      ],
      "text/plain": [
       "           pH    Iron  Nitrate  Chloride    Lead    Zinc  Turbidity  Fluoride  \\\n",
       "count  8000.0  8000.0   8000.0    8000.0  8000.0  8000.0     8000.0    8000.0   \n",
       "mean      7.5     0.1      6.2     185.2     0.0     1.6        0.5       1.0   \n",
       "std       0.9     0.5      3.2      66.1     0.0     1.5        1.0       0.8   \n",
       "min       3.0     0.0      0.8      42.9     0.0     0.0        0.0       0.0   \n",
       "25%       6.9     0.0      4.1     140.4     0.0     0.4        0.0       0.4   \n",
       "50%       7.5     0.0      5.7     178.7     0.0     1.1        0.2       0.8   \n",
       "75%       8.0     0.1      7.7     217.8     0.0     2.2        0.6       1.3   \n",
       "max      12.1     8.5     39.7     727.8     2.9    13.5       12.6       7.4   \n",
       "\n",
       "       Copper    Odor  Sulfate  Conductivity  Chlorine  Manganese  \\\n",
       "count  8000.0  8000.0   8000.0        8000.0    8000.0     8000.0   \n",
       "mean      0.5     1.8    147.2         427.6       3.3        0.1   \n",
       "std       0.6     1.1     67.0         189.0       0.7        0.5   \n",
       "min       0.0     0.0     13.4          33.2       1.4        0.0   \n",
       "25%       0.1     0.9    100.8         291.1       2.8        0.0   \n",
       "50%       0.4     1.8    137.8         406.5       3.2        0.0   \n",
       "75%       0.7     2.6    181.7         527.6       3.7        0.0   \n",
       "max       6.7     4.1    708.7        1459.6       8.8       13.8   \n",
       "\n",
       "       Total Dissolved Solids  \n",
       "count                  8000.0  \n",
       "mean                    268.7  \n",
       "std                     156.2  \n",
       "min                       0.1  \n",
       "25%                     133.8  \n",
       "50%                     270.1  \n",
       "75%                     399.8  \n",
       "max                     579.8  "
      ]
     },
     "execution_count": 45,
     "metadata": {},
     "output_type": "execute_result"
    }
   ],
   "source": [
    "X_train_scaled = pd.DataFrame(X_train_scaled,columns=X_train.columns)\n",
    "X_test_scaled = pd.DataFrame(X_test_scaled,columns=X_test.columns)\n",
    "\n",
    "np.round(X_train.describe(),1)\n"
   ]
  },
  {
   "attachments": {},
   "cell_type": "markdown",
   "metadata": {},
   "source": [
    "Model training"
   ]
  },
  {
   "attachments": {},
   "cell_type": "markdown",
   "metadata": {},
   "source": [
    "decision tree"
   ]
  },
  {
   "cell_type": "code",
   "execution_count": 46,
   "metadata": {},
   "outputs": [],
   "source": [
    "from sklearn.tree import DecisionTreeClassifier\n",
    "\n",
    "\n",
    "# Create an instance of DecisionTreeClassifier\n",
    "clf = DecisionTreeClassifier()\n",
    "\n",
    "# Train the classifier on the training data\n",
    "clf.fit(X_train, Y_train)\n",
    "\n",
    "# Make predictions on the test data\n",
    "Y_pred = clf.predict(X_test)"
   ]
  },
  {
   "cell_type": "code",
   "execution_count": 47,
   "metadata": {},
   "outputs": [
    {
     "name": "stdout",
     "output_type": "stream",
     "text": [
      "Accuracy: 81.3\n"
     ]
    }
   ],
   "source": [
    "from sklearn.metrics import accuracy_score,confusion_matrix\n",
    "\n",
    "accuracy = accuracy_score(Y_test, Y_pred)\n",
    "print(\"Accuracy:\", accuracy*100)"
   ]
  },
  {
   "cell_type": "code",
   "execution_count": 48,
   "metadata": {},
   "outputs": [
    {
     "name": "stdout",
     "output_type": "stream",
     "text": [
      "6326    0\n",
      "5185    0\n",
      "2495    1\n",
      "2765    1\n",
      "9303    0\n",
      "       ..\n",
      "5640    1\n",
      "8667    0\n",
      "6027    0\n",
      "8662    1\n",
      "9764    1\n",
      "Name: Target, Length: 2000, dtype: int64\n"
     ]
    }
   ],
   "source": [
    "print(Y_test)"
   ]
  },
  {
   "cell_type": "code",
   "execution_count": 49,
   "metadata": {},
   "outputs": [
    {
     "name": "stdout",
     "output_type": "stream",
     "text": [
      "Confusion matrix\n",
      "[[1208  178]\n",
      " [ 196  418]]\n"
     ]
    }
   ],
   "source": [
    "cm = confusion_matrix(Y_test, Y_pred)\n",
    "\n",
    "print(\"Confusion matrix\")\n",
    "print(cm)"
   ]
  },
  {
   "cell_type": "code",
   "execution_count": 50,
   "metadata": {},
   "outputs": [
    {
     "name": "stdout",
     "output_type": "stream",
     "text": [
      "[0, 0, 1, 1, 0, 1, 0, 0, 1, 0, 0, 0, 0, 1, 0, 0, 0, 0, 0, 0, 0, 0, 0, 0, 0, 0, 0, 1, 0, 0, 0, 0, 0, 0, 0, 1, 1, 1, 1, 0, 0, 0, 0, 1, 0, 0, 0, 0, 1, 1, 1, 0, 1, 0, 0, 0, 1, 0, 0, 0, 0, 0, 1, 1, 0, 0, 0, 1, 1, 1, 0, 0, 0, 0, 0, 1, 1, 0, 1, 1, 0, 0, 0, 0, 1, 1, 0, 1, 0, 0, 1, 0, 0, 1, 0, 0, 0, 1, 0, 0, 0, 0, 0, 1, 0, 0, 0, 0, 1, 0, 1, 1, 1, 0, 0, 0, 0, 1, 0, 0, 0, 0, 0, 1, 0, 0, 0, 0, 0, 0, 1, 0, 0, 0, 1, 1, 0, 0, 0, 0, 0, 0, 0, 1, 1, 1, 1, 0, 1, 1, 0, 0, 0, 1, 1, 0, 1, 0, 0, 1, 0, 1, 1, 0, 1, 0, 1, 1, 1, 1, 0, 0, 0, 1, 0, 0, 1, 0, 0, 1, 0, 1, 0, 0, 0, 0, 1, 1, 0, 1, 1, 0, 1, 0, 0, 0, 0, 0, 1, 1, 1, 1, 1, 1, 1, 0, 1, 0, 0, 0, 0, 0, 1, 1, 0, 0, 0, 0, 1, 1, 0, 1, 0, 0, 0, 1, 0, 0, 0, 0, 1, 0, 0, 1, 0, 0, 0, 0, 0, 0, 1, 1, 0, 1, 0, 1, 0, 0, 1, 0, 1, 1, 1, 0, 0, 1, 0, 1, 1, 0, 1, 0, 0, 0, 0, 0, 0, 0, 1, 1, 1, 0, 1, 0, 0, 0, 1, 0, 0, 0, 0, 0, 0, 0, 0, 0, 1, 0, 1, 0, 0, 1, 0, 0, 0, 1, 0, 0, 0, 0, 0, 0, 0, 0, 0, 1, 1, 0, 0, 1, 0, 0, 0, 0, 0, 0, 0, 1, 1, 1, 0, 1, 0, 1, 0, 1, 0, 0, 1, 0, 0, 0, 0, 0, 0, 0, 0, 0, 0, 0, 0, 1, 0, 1, 0, 0, 0, 0, 0, 0, 0, 0, 0, 1, 0, 0, 0, 0, 1, 0, 0, 1, 0, 0, 1, 0, 1, 1, 0, 0, 0, 0, 1, 0, 0, 1, 0, 0, 0, 1, 0, 0, 0, 1, 1, 0, 1, 0, 0, 0, 1, 1, 0, 0, 0, 0, 0, 0, 0, 1, 0, 0, 0, 0, 1, 1, 1, 0, 0, 0, 0, 1, 1, 0, 1, 0, 0, 0, 1, 0, 0, 0, 0, 0, 0, 0, 0, 0, 1, 1, 0, 0, 0, 1, 0, 1, 0, 0, 0, 1, 0, 0, 1, 0, 1, 1, 0, 0, 1, 0, 1, 0, 1, 0, 1, 0, 0, 1, 0, 0, 0, 0, 1, 0, 0, 1, 1, 1, 0, 1, 0, 1, 0, 0, 0, 0, 0, 0, 1, 1, 0, 1, 0, 0, 0, 0, 0, 0, 0, 0, 0, 1, 1, 0, 0, 0, 0, 1, 1, 0, 1, 0, 0, 0, 0, 0, 0, 0, 1, 0, 1, 1, 1, 0, 0, 0, 0, 0, 0, 1, 0, 0, 0, 0, 1, 0, 1, 0, 0, 1, 1, 0, 0, 1, 0, 1, 0, 1, 1, 0, 0, 0, 0, 0, 0, 0, 1, 0, 1, 0, 0, 0, 1, 0, 0, 0, 0, 0, 0, 0, 1, 0, 0, 0, 0, 1, 0, 1, 0, 0, 1, 0, 1, 0, 1, 0, 0, 0, 0, 1, 0, 1, 0, 1, 0, 0, 0, 0, 0, 0, 0, 1, 0, 0, 0, 0, 0, 1, 0, 1, 0, 1, 0, 0, 0, 0, 0, 0, 0, 1, 1, 0, 1, 1, 1, 0, 0, 1, 1, 1, 1, 0, 0, 0, 1, 0, 0, 0, 0, 0, 0, 0, 1, 0, 0, 0, 0, 0, 1, 0, 1, 1, 1, 0, 0, 0, 0, 0, 0, 1, 0, 0, 1, 0, 1, 1, 0, 0, 1, 0, 0, 0, 0, 1, 1, 1, 0, 0, 1, 0, 0, 0, 0, 1, 0, 0, 0, 0, 1, 0, 1, 0, 0, 0, 0, 0, 0, 1, 0, 0, 0, 0, 0, 1, 0, 0, 0, 1, 0, 1, 0, 1, 0, 0, 1, 0, 1, 0, 0, 1, 0, 0, 1, 0, 0, 0, 0, 0, 1, 0, 0, 0, 1, 0, 1, 0, 0, 0, 0, 0, 1, 0, 0, 0, 0, 0, 0, 0, 1, 1, 0, 1, 0, 1, 0, 0, 1, 1, 0, 1, 0, 1, 1, 0, 0, 0, 0, 0, 0, 0, 0, 0, 0, 0, 1, 1, 0, 0, 0, 0, 1, 1, 1, 0, 0, 1, 0, 0, 0, 0, 0, 1, 0, 1, 0, 1, 0, 0, 0, 0, 1, 0, 0, 1, 1, 0, 0, 1, 1, 1, 0, 0, 1, 0, 1, 0, 1, 0, 0, 1, 0, 0, 1, 0, 1, 0, 0, 0, 1, 0, 1, 1, 0, 0, 0, 0, 0, 0, 1, 0, 0, 0, 0, 0, 1, 0, 0, 1, 0, 0, 0, 1, 0, 0, 1, 0, 1, 0, 0, 0, 1, 0, 1, 0, 0, 0, 1, 1, 0, 0, 1, 0, 0, 1, 0, 0, 0, 0, 1, 1, 0, 0, 0, 0, 1, 0, 1, 0, 1, 0, 0, 0, 0, 1, 1, 0, 0, 0, 1, 1, 0, 0, 0, 1, 1, 0, 0, 1, 1, 0, 0, 0, 1, 0, 0, 0, 0, 0, 0, 0, 0, 0, 0, 0, 0, 0, 0, 0, 0, 0, 0, 1, 1, 0, 0, 0, 0, 1, 0, 1, 0, 0, 1, 0, 1, 1, 0, 0, 0, 0, 0, 0, 0, 0, 1, 1, 0, 0, 0, 0, 0, 1, 1, 1, 1, 0, 0, 0, 0, 1, 1, 0, 0, 0, 1, 1, 1, 0, 1, 0, 0, 0, 0, 0, 0, 0, 1, 0, 0, 1, 0, 0, 0, 1, 0, 0, 0, 0, 0, 1, 1, 0, 0, 0, 0, 1, 1, 0, 0, 0, 1, 1, 1, 0, 0, 0, 0, 1, 0, 0, 0, 0, 1, 0, 0, 0, 0, 0, 0, 0, 0, 0, 0, 0, 0, 0, 1, 0, 0, 0, 1, 0, 1, 0, 1, 0, 1, 0, 0, 0, 1, 1, 0, 0, 1, 1, 1, 0, 0, 0, 1, 0, 1, 0, 1, 0, 1, 1, 0, 0, 1, 1, 1, 0, 1, 0, 0, 1, 0, 0, 0, 0, 0, 0, 0, 0, 1, 0, 0, 0, 1, 0, 1, 0, 0, 1, 0, 0, 1, 1, 0, 0, 0, 0, 0, 0, 0, 1, 1, 0, 0, 0, 0, 0, 0, 1, 0, 0, 0, 0, 0, 0, 1, 1, 0, 0, 0, 1, 0, 1, 0, 0, 0, 1, 0, 0, 1, 0, 0, 1, 1, 0, 0, 1, 0, 0, 0, 1, 0, 1, 0, 0, 0, 0, 1, 1, 0, 0, 0, 0, 1, 0, 0, 1, 1, 0, 1, 1, 0, 1, 0, 0, 0, 0, 0, 0, 0, 1, 0, 0, 0, 0, 0, 0, 0, 0, 0, 0, 0, 0, 0, 1, 0, 1, 0, 0, 1, 0, 0, 0, 0, 0, 1, 0, 1, 1, 0, 0, 0, 0, 0, 0, 1, 0, 0, 0, 0, 0, 0, 1, 0, 0, 0, 0, 0, 0, 0, 0, 0, 0, 1, 0, 1, 0, 0, 0, 1, 0, 0, 0, 0, 0, 0, 0, 0, 1, 1, 1, 0, 1, 0, 0, 0, 1, 0, 1, 0, 0, 1, 1, 1, 0, 0, 0, 0, 0, 0, 0, 0, 0, 0, 0, 0, 1, 0, 0, 0, 0, 0, 0, 1, 0, 0, 0, 0, 0, 0, 0, 0, 0, 0, 0, 0, 1, 0, 0, 1, 0, 0, 1, 0, 1, 0, 0, 1, 1, 0, 1, 0, 0, 0, 0, 1, 0, 0, 1, 1, 0, 0, 1, 0, 0, 0, 0, 0, 0, 0, 0, 0, 1, 1, 0, 0, 1, 1, 0, 1, 0, 0, 0, 0, 0, 1, 0, 0, 0, 0, 1, 0, 0, 1, 1, 1, 0, 1, 0, 0, 0, 0, 0, 1, 1, 0, 0, 0, 0, 0, 0, 0, 0, 1, 0, 0, 0, 1, 0, 0, 1, 1, 0, 0, 0, 0, 1, 0, 0, 0, 1, 0, 1, 0, 0, 0, 1, 0, 0, 0, 1, 1, 0, 1, 0, 0, 0, 0, 1, 0, 1, 0, 0, 0, 0, 0, 0, 0, 1, 1, 1, 0, 0, 0, 0, 0, 0, 0, 1, 0, 1, 1, 0, 0, 0, 1, 0, 1, 0, 1, 0, 1, 0, 0, 1, 0, 0, 0, 0, 0, 0, 1, 0, 0, 1, 0, 0, 0, 0, 0, 1, 1, 0, 1, 0, 0, 1, 0, 1, 0, 1, 0, 0, 0, 1, 1, 0, 0, 0, 0, 0, 0, 0, 0, 1, 0, 0, 0, 0, 1, 0, 0, 1, 0, 0, 0, 0, 0, 0, 1, 1, 0, 1, 0, 0, 1, 1, 1, 0, 1, 0, 0, 0, 0, 0, 1, 0, 0, 1, 0, 0, 1, 0, 0, 0, 0, 0, 0, 0, 0, 1, 0, 0, 0, 1, 0, 1, 1, 0, 1, 0, 1, 0, 1, 0, 0, 1, 0, 1, 1, 0, 0, 0, 0, 0, 0, 1, 1, 0, 0, 0, 1, 0, 0, 0, 0, 0, 0, 0, 1, 0, 0, 0, 0, 0, 0, 1, 0, 0, 1, 0, 0, 0, 0, 0, 1, 1, 1, 0, 0, 0, 0, 0, 0, 0, 0, 1, 0, 0, 0, 0, 0, 1, 1, 0, 1, 0, 1, 0, 0, 0, 0, 1, 1, 0, 0, 1, 1, 0, 0, 1, 1, 0, 1, 0, 0, 0, 0, 0, 0, 0, 0, 0, 0, 1, 0, 1, 0, 1, 0, 0, 0, 0, 1, 0, 0, 0, 0, 0, 1, 1, 0, 0, 1, 0, 0, 0, 1, 0, 1, 0, 1, 0, 0, 1, 0, 1, 0, 0, 0, 1, 1, 0, 0, 1, 1, 0, 0, 0, 0, 1, 0, 0, 1, 0, 1, 1, 0, 0, 0, 0, 0, 0, 0, 1, 1, 0, 0, 0, 0, 1, 0, 0, 1, 0, 1, 1, 0, 1, 0, 0, 0, 0, 0, 1, 0, 1, 1, 0, 0, 0, 1, 0, 0, 0, 1, 0, 1, 0, 0, 1, 0, 1, 0, 1, 1, 0, 0, 0, 0, 0, 0, 0, 1, 0, 1, 0, 0, 0, 0, 0, 1, 1, 0, 0, 0, 0, 1, 0, 0, 0, 0, 0, 0, 0, 0, 0, 0, 0, 0, 0, 1, 0, 0, 0, 0, 0, 0, 0, 0, 1, 1, 1, 0, 1, 0, 1, 0, 0, 1, 1, 0, 0, 1, 0, 1, 1, 0, 1, 0, 1, 0, 0, 0, 0, 0, 0, 1, 1, 0, 1, 0, 1, 0, 0, 0, 1, 0, 0, 0, 0, 0, 0, 0, 0, 1, 0, 0, 1, 0, 0, 0, 1, 1, 1, 1, 0, 1, 1, 0, 0, 1, 0, 0, 0, 0, 0, 0, 1, 1, 0, 0, 0, 0, 0, 0, 0, 0, 1, 0, 1, 0, 0, 1, 0, 1, 1, 0, 0, 1, 0, 0, 0, 0, 1, 1, 0, 0, 1, 0, 0, 1, 0, 0, 0, 0, 1, 0, 1, 1, 0, 0, 0, 0, 0, 0, 1, 0, 0, 0, 0, 0, 0, 0, 0, 1, 0, 0, 0, 0, 0, 0, 1, 0, 1, 1, 0, 0, 0, 0, 0, 0, 1, 0, 0, 0, 0, 0, 1, 1, 1, 0, 0, 0, 0, 1, 1, 0, 1, 0, 0, 0, 0, 0, 0, 0, 0, 0, 0, 1, 0, 0, 1, 0, 0, 0, 0, 0, 0, 1, 1, 0, 0, 0, 0, 0, 1, 0, 0, 1, 0, 0, 1, 1, 0, 0, 0, 1, 1, 1, 0, 0, 1, 0, 1, 0, 1, 0, 1, 0, 1, 0, 0, 0, 0, 0, 0, 0, 1, 0, 0, 0, 0, 1, 0, 0, 0, 0, 1, 0, 0, 1, 1]\n"
     ]
    }
   ],
   "source": [
    "print(Y_test.to_list())"
   ]
  },
  {
   "cell_type": "code",
   "execution_count": 51,
   "metadata": {},
   "outputs": [
    {
     "name": "stdout",
     "output_type": "stream",
     "text": [
      "[0 0 0 ... 0 1 0]\n"
     ]
    }
   ],
   "source": [
    "output=clf.predict(X_test)\n",
    "\n",
    "print(output)"
   ]
  }
 ],
 "metadata": {
  "kernelspec": {
   "display_name": "Python 3",
   "language": "python",
   "name": "python3"
  },
  "language_info": {
   "codemirror_mode": {
    "name": "ipython",
    "version": 3
   },
   "file_extension": ".py",
   "mimetype": "text/x-python",
   "name": "python",
   "nbconvert_exporter": "python",
   "pygments_lexer": "ipython3",
   "version": "3.11.4"
  },
  "orig_nbformat": 4
 },
 "nbformat": 4,
 "nbformat_minor": 2
}
